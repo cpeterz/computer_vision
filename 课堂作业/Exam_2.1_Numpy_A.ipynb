{
 "cells": [
  {
   "cell_type": "markdown",
   "id": "79760bc2",
   "metadata": {},
   "source": [
    "# 题目1：\n",
    "\n",
    "假设你有一个一维的NumPy数组 arr，其中包含一些整数。请编写一个Python函数，名为 custom_median(arr)，用于计算该数组的中位数。中位数是数组中所有元素按升序排列后的中间值。如果数组包含偶数个元素，则中位数为中间两个元素的平均值。\n",
    "\n",
    "要求：\n",
    "\n",
    "请不要使用NumPy的内置函数（例如np.median）来计算中位数。\n",
    "如果输入的数组为空，则函数应返回None。"
   ]
  },
  {
   "cell_type": "code",
   "execution_count": 5,
   "id": "bf46edaf",
   "metadata": {},
   "outputs": [
    {
     "name": "stdout",
     "output_type": "stream",
     "text": [
      "3.5\n",
      "8\n",
      "None\n"
     ]
    }
   ],
   "source": [
    "import numpy as np\n",
    "\n",
    "def custom_median(arr):\n",
    "    if len(arr) == 0:\n",
    "        return None\n",
    "    \n",
    "    # 先对数组进行升序排序\n",
    "    sorted_arr = np.sort(arr)\n",
    "    \n",
    "    # 计算中位数\n",
    "    n = len(sorted_arr)\n",
    "    if n % 2 == 1:\n",
    "        # 如果数组长度为奇数，直接返回中间的元素\n",
    "        return sorted_arr[n // 2]\n",
    "    else:\n",
    "        # 如果数组长度为偶数，返回中间两个元素的平均值\n",
    "        mid1 = sorted_arr[n // 2 - 1]\n",
    "        mid2 = sorted_arr[n // 2]\n",
    "        return (mid1 + mid2) / 2.0\n",
    "\n",
    "# 测试示例\n",
    "arr1 = np.array([1, 3, 2, 6, 5, 4])\n",
    "result1 = custom_median(arr1)\n",
    "print(result1)  # 输出应为 3.5\n",
    "\n",
    "arr2 = np.array([10, 9, 8, 7, 6])\n",
    "result2 = custom_median(arr2)\n",
    "print(result2)  # 输出应为 8.0\n",
    "\n",
    "arr3 = np.array([])\n",
    "result3 = custom_median(arr3)\n",
    "print(result3)  # 输出应为 None\n"
   ]
  },
  {
   "cell_type": "markdown",
   "id": "5aba9174",
   "metadata": {},
   "source": [
    "# 题目2：\n",
    "\n",
    "假设你有两个一维的NumPy数组 arr1 和 arr2，它们包含一些整数。请编写一个Python函数，名为 custom_dot_product(arr1, arr2)，用于计算这两个数组的点积（内积）。\n",
    "\n",
    "要求：\n",
    "\n",
    "请不要使用NumPy的内置函数（例如np.dot）来计算点积。\n",
    "如果两个数组的长度不相等，函数应返回None。\n",
    "如果输入的数组为空，函数应返回None。\n",
    "提示：\n",
    "点积（内积）的计算方式是将两个数组对应位置的元素相乘，然后将结果相加。"
   ]
  },
  {
   "cell_type": "code",
   "execution_count": 8,
   "id": "3555237c",
   "metadata": {},
   "outputs": [
    {
     "name": "stdout",
     "output_type": "stream",
     "text": [
      "32\n",
      "None\n",
      "None\n"
     ]
    }
   ],
   "source": [
    "import numpy as np\n",
    "\n",
    "def custom_dot_product(arr1, arr2):\n",
    "    if len(arr1) != len(arr2) or len(arr1) == 0:\n",
    "        return None\n",
    "    \n",
    "    dot_product = 0\n",
    "    for i in range(len(arr1)):\n",
    "        dot_product += arr1[i] * arr2[i]\n",
    "    \n",
    "    return dot_product\n",
    "\n",
    "# 测试示例\n",
    "arr1 = np.array([1, 2, 3])\n",
    "arr2 = np.array([4, 5, 6])\n",
    "result = custom_dot_product(arr1, arr2)\n",
    "print(result)  # 输出应为 32\n",
    "\n",
    "arr3 = np.array([1, 2, 3, 4])\n",
    "arr4 = np.array([4, 5, 6])\n",
    "result2 = custom_dot_product(arr3, arr4)\n",
    "print(result2)  # 输出应为 None\n",
    "\n",
    "arr5 = np.array([])\n",
    "arr6 = np.array([4, 5, 6])\n",
    "result3 = custom_dot_product(arr5, arr6)\n",
    "print(result3)  # 输出应为 None\n"
   ]
  },
  {
   "cell_type": "code",
   "execution_count": null,
   "id": "4aa3e4cf",
   "metadata": {},
   "outputs": [],
   "source": []
  }
 ],
 "metadata": {
  "kernelspec": {
   "display_name": "py3.6.3",
   "language": "python",
   "name": "python3"
  },
  "language_info": {
   "codemirror_mode": {
    "name": "ipython",
    "version": 3
   },
   "file_extension": ".py",
   "mimetype": "text/x-python",
   "name": "python",
   "nbconvert_exporter": "python",
   "pygments_lexer": "ipython3",
   "version": "3.10.9"
  }
 },
 "nbformat": 4,
 "nbformat_minor": 5
}
