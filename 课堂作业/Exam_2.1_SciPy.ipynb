{
 "cells": [
  {
   "cell_type": "markdown",
   "id": "bdc94e93",
   "metadata": {},
   "source": [
    "# 题目1：正态性检验\n",
    "\n",
    "问题描述：\n",
    "假设你正在分析一个实验的数据，数据点存储在一个NumPy数组 data 中。你怀疑这组数据服从正态分布，并希望使用SciPy进行正态性检验。\n",
    "\n",
    "请编写一个Python函数，名为 check_normality(data)，该函数接受数据数组 data，并使用SciPy的正态性检验函数，判断数据是否服从正态分布。函数应该返回一个字符串，表示检验结果，可以是 \"数据服从正态分布\" 或 \"数据不服从正态分布\"。\n",
    "要求：\n",
    "使用SciPy库中的适当函数来执行正态性检验。\n",
    "如果数据服从正态分布，函数应该返回 \"数据服从正态分布\"；否则返回 \"数据不服从正态分布\"。\n",
    "提示：\n",
    "你可以使用SciPy库中的scipy.stats.normaltest函数来进行正态性检验。\n",
    "\n"
   ]
  },
  {
   "cell_type": "code",
   "execution_count": null,
   "id": "80734989",
   "metadata": {},
   "outputs": [
    {
     "ename": "",
     "evalue": "",
     "output_type": "error",
     "traceback": [
      "\u001b[1;31m运行具有“py3.6.3”的单元格需要ipykernel包。\n",
      "\u001b[1;31mRun the following command to install 'ipykernel' into the Python environment. \n",
      "\u001b[1;31mCommand: 'conda install -n py3.6.3 ipykernel --update-deps --force-reinstall'"
     ]
    }
   ],
   "source": [
    "import numpy as np\n",
    "from scipy.stats import normaltest"
   ]
  },
  {
   "cell_type": "code",
   "execution_count": null,
   "id": "726cbb47",
   "metadata": {},
   "outputs": [],
   "source": [
    "# 请输入你的程序"
   ]
  },
  {
   "cell_type": "code",
   "execution_count": null,
   "id": "e244578a",
   "metadata": {},
   "outputs": [],
   "source": [
    "# 生成一组模拟数据（这里使用正态分布的数据）\n",
    "data1 = np.random.normal(0, 1, 100)\n",
    "result1 = check_normality(data1)\n",
    "print(result1)  # 输出应为 \"数据服从正态分布\"\n",
    "\n",
    "# 生成一组不服从正态分布的数据（这里使用均匀分布的数据）\n",
    "data2 = np.random.uniform(0, 1, 100)\n",
    "result2 = check_normality(data2)\n",
    "print(result2)  # 输出应为 \"数据不服从正态分布\""
   ]
  },
  {
   "cell_type": "markdown",
   "id": "6e216469",
   "metadata": {},
   "source": [
    "# 题目2：拟合\n",
    "\n",
    "问题描述：\n",
    "假设你正在进行一项科学实验，收集了一组实验数据，存储在NumPy数组 data中。你希望使用SciPy来拟合这些数据并找到最佳拟合曲线的参数。具体来说，你想拟合一个多项式曲线：\n",
    "y=ax^3+bx^2+cx+d\n",
    "\n",
    "请编写一个Python函数，名为 fit_polynomial(data)，该函数接受一个包含(x, y)数据点的NumPy数组 data（每行包含两个值，x和y），并返回拟合多项式曲线的系数 [a, b, c, d]。\n",
    "\n",
    "要求：\n",
    "使用SciPy的curve_fit函数来拟合多项式曲线。\n",
    "需要导入SciPy库。\n",
    "如果拟合失败或出现错误，函数应返回None。\n",
    "\n",
    "提示：\n",
    "你可以使用scipy.optimize.curve_fit函数来拟合多项式曲线。确保提供一个合适的初始猜测（initial guess）以帮助拟合器收敛。\n"
   ]
  },
  {
   "cell_type": "code",
   "execution_count": null,
   "id": "7cbcfff7",
   "metadata": {},
   "outputs": [],
   "source": [
    "import numpy as np\n",
    "from scipy.optimize import curve_fit"
   ]
  },
  {
   "cell_type": "code",
   "execution_count": null,
   "id": "dbcb07a3",
   "metadata": {},
   "outputs": [],
   "source": [
    "# 请输入你的程序"
   ]
  },
  {
   "cell_type": "code",
   "execution_count": null,
   "id": "7e496333",
   "metadata": {},
   "outputs": [],
   "source": [
    "# 生成一组模拟数据\n",
    "x = np.array([0.0, 1.0, 2.0, 3.0, 4.0])\n",
    "y = np.array([0.1, 0.9, 2.2, 4.0, 7.0])\n",
    "data = np.vstack((x, y)).T\n",
    "\n",
    "coefficients = fit_polynomial(data)\n",
    "print(coefficients)  # 输出应为 [0.1, 0.6, 1.0, 0.0] 或类似结果"
   ]
  }
 ],
 "metadata": {
  "kernelspec": {
   "display_name": "py3.6.3",
   "language": "python",
   "name": "python3"
  },
  "language_info": {
   "codemirror_mode": {
    "name": "ipython",
    "version": 3
   },
   "file_extension": ".py",
   "mimetype": "text/x-python",
   "name": "python",
   "nbconvert_exporter": "python",
   "pygments_lexer": "ipython3",
   "version": "3.10.9"
  }
 },
 "nbformat": 4,
 "nbformat_minor": 5
}
