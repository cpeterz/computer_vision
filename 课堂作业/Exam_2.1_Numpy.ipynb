{
 "cells": [
  {
   "cell_type": "markdown",
   "id": "2e82161b",
   "metadata": {},
   "source": [
    "# 题目1：中位数\n",
    "\n",
    "假设你有一个一维的NumPy数组 arr，其中包含一些整数。请编写一个Python函数，名为 custom_median(arr)，用于计算该数组的中位数。中位数是数组中所有元素按升序排列后的中间值。如果数组包含偶数个元素，则中位数为中间两个元素的平均值。\n",
    "\n",
    "要求：\n",
    "\n",
    "请不要使用NumPy的内置函数（例如np.median）来计算中位数。\n",
    "如果输入的数组为空，则函数应返回None。"
   ]
  },
  {
   "cell_type": "code",
   "execution_count": null,
   "id": "962cc177",
   "metadata": {},
   "outputs": [],
   "source": [
    "import numpy as np"
   ]
  },
  {
   "cell_type": "code",
   "execution_count": null,
   "id": "94900945",
   "metadata": {},
   "outputs": [],
   "source": [
    "# 请输入你的程序"
   ]
  },
  {
   "cell_type": "code",
   "execution_count": null,
   "id": "46604759",
   "metadata": {},
   "outputs": [],
   "source": [
    "arr1 = np.array([1, 3, 2, 6, 5, 4])\n",
    "result1 = custom_median(arr1)\n",
    "print(result1)  # 输出应为 3.5\n",
    "\n",
    "arr2 = np.array([10, 9, 8, 7, 6])\n",
    "result2 = custom_median(arr2)\n",
    "print(result2)  # 输出应为 8.0\n",
    "\n",
    "arr3 = np.array([])\n",
    "result3 = custom_median(arr3)\n",
    "print(result3)  # 输出应为 None"
   ]
  },
  {
   "cell_type": "markdown",
   "id": "314614b8",
   "metadata": {},
   "source": [
    "# 题目2：点积\n",
    "\n",
    "假设你有两个一维的NumPy数组 arr1 和 arr2，它们包含一些整数。请编写一个Python函数，名为 custom_dot_product(arr1, arr2)，用于计算这两个数组的点积（内积）。\n",
    "\n",
    "要求：\n",
    "\n",
    "请不要使用NumPy的内置函数（例如np.dot）来计算点积。\n",
    "如果两个数组的长度不相等，函数应返回None。\n",
    "如果输入的数组为空，函数应返回None。\n",
    "提示：\n",
    "点积（内积）的计算方式是将两个数组对应位置的元素相乘，然后将结果相加。"
   ]
  },
  {
   "cell_type": "code",
   "execution_count": null,
   "id": "c7dd5946",
   "metadata": {},
   "outputs": [],
   "source": [
    "import numpy as np"
   ]
  },
  {
   "cell_type": "code",
   "execution_count": null,
   "id": "7e6ea2df",
   "metadata": {},
   "outputs": [],
   "source": [
    "# 请输入你的程序"
   ]
  },
  {
   "cell_type": "code",
   "execution_count": null,
   "id": "00648a26",
   "metadata": {},
   "outputs": [],
   "source": [
    "arr1 = np.array([1, 2, 3])\n",
    "arr2 = np.array([4, 5, 6])\n",
    "result = custom_dot_product(arr1, arr2)\n",
    "print(result)  # 输出应为 32\n",
    "\n",
    "arr3 = np.array([1, 2, 3, 4])\n",
    "arr4 = np.array([4, 5, 6])\n",
    "result2 = custom_dot_product(arr3, arr4)\n",
    "print(result2)  # 输出应为 None\n",
    "\n",
    "arr5 = np.array([])\n",
    "arr6 = np.array([4, 5, 6])\n",
    "result3 = custom_dot_product(arr5, arr6)\n",
    "print(result3)  # 输出应为 None"
   ]
  }
 ],
 "metadata": {
  "kernelspec": {
   "display_name": "py39",
   "language": "python",
   "name": "py39"
  },
  "language_info": {
   "codemirror_mode": {
    "name": "ipython",
    "version": 3
   },
   "file_extension": ".py",
   "mimetype": "text/x-python",
   "name": "python",
   "nbconvert_exporter": "python",
   "pygments_lexer": "ipython3",
   "version": "3.9.18"
  }
 },
 "nbformat": 4,
 "nbformat_minor": 5
}
